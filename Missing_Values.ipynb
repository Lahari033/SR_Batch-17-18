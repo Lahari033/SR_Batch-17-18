{
  "nbformat": 4,
  "nbformat_minor": 0,
  "metadata": {
    "colab": {
      "provenance": [],
      "authorship_tag": "ABX9TyMRG2Lw9IPrzcvm0YMpP1aN",
      "include_colab_link": true
    },
    "kernelspec": {
      "name": "python3",
      "display_name": "Python 3"
    },
    "language_info": {
      "name": "python"
    }
  },
  "cells": [
    {
      "cell_type": "markdown",
      "metadata": {
        "id": "view-in-github",
        "colab_type": "text"
      },
      "source": [
        "<a href=\"https://colab.research.google.com/github/Lahari033/SR_Batch-17-18/blob/main/Missing_Values.ipynb\" target=\"_parent\"><img src=\"https://colab.research.google.com/assets/colab-badge.svg\" alt=\"Open In Colab\"/></a>"
      ]
    },
    {
      "cell_type": "markdown",
      "source": [
        "## Data Wrangling Step:\n",
        "## 1.Handling Missing Values\n",
        "## 2.Handling duplicates\n",
        "## 3.Handling Outliers\n",
        "## 4.Data Transformation\n",
        "\n"
      ],
      "metadata": {
        "id": "Yj0Q5Jh95qMX"
      }
    },
    {
      "cell_type": "code",
      "execution_count": 26,
      "metadata": {
        "colab": {
          "base_uri": "https://localhost:8080/"
        },
        "id": "g42W_FgL34Sw",
        "outputId": "5b47675c-86b0-4cfe-e2a2-e3ec57183f16"
      },
      "outputs": [
        {
          "output_type": "stream",
          "name": "stdout",
          "text": [
            "   patientid   Age     BP\n",
            "0          1  25.0  120.0\n",
            "1          2  30.0    NaN\n",
            "2          3   NaN  110.0\n",
            "3          4  40.0  140.0\n",
            "4          5  50.0    NaN\n"
          ]
        }
      ],
      "source": [
        "import pandas as pd\n",
        "import numpy as np\n",
        "data={'patientid':[1,2,3,4,5],\n",
        "      'Age':[25,30,None,40,50],\n",
        "      'BP':[120,None,110,140,None]}\n",
        "df=pd.DataFrame(data)\n",
        "print(df)"
      ]
    },
    {
      "cell_type": "code",
      "source": [
        "df4=df.dropna()\n",
        "print(df4)"
      ],
      "metadata": {
        "colab": {
          "base_uri": "https://localhost:8080/"
        },
        "id": "kpjsPUUvFPQq",
        "outputId": "3a2e2afb-1c6d-43db-ad4e-627a89145259"
      },
      "execution_count": 27,
      "outputs": [
        {
          "output_type": "stream",
          "name": "stdout",
          "text": [
            "   patientid   Age     BP\n",
            "0          1  25.0  120.0\n",
            "3          4  40.0  140.0\n"
          ]
        }
      ]
    },
    {
      "cell_type": "code",
      "source": [
        "df['Age'].fillna(df['Age'].mean(),inplace=True)\n",
        "print(df)"
      ],
      "metadata": {
        "colab": {
          "base_uri": "https://localhost:8080/"
        },
        "id": "IOOXr5CY7Xlj",
        "outputId": "6089bbe8-681f-496a-c5ca-4ab321dcbf8a"
      },
      "execution_count": 28,
      "outputs": [
        {
          "output_type": "stream",
          "name": "stdout",
          "text": [
            "   patientid    Age     BP\n",
            "0          1  25.00  120.0\n",
            "1          2  30.00    NaN\n",
            "2          3  36.25  110.0\n",
            "3          4  40.00  140.0\n",
            "4          5  50.00    NaN\n"
          ]
        },
        {
          "output_type": "stream",
          "name": "stderr",
          "text": [
            "/tmp/ipython-input-2591424001.py:1: FutureWarning: A value is trying to be set on a copy of a DataFrame or Series through chained assignment using an inplace method.\n",
            "The behavior will change in pandas 3.0. This inplace method will never work because the intermediate object on which we are setting values always behaves as a copy.\n",
            "\n",
            "For example, when doing 'df[col].method(value, inplace=True)', try using 'df.method({col: value}, inplace=True)' or df[col] = df[col].method(value) instead, to perform the operation inplace on the original object.\n",
            "\n",
            "\n",
            "  df['Age'].fillna(df['Age'].mean(),inplace=True)\n"
          ]
        }
      ]
    },
    {
      "cell_type": "code",
      "source": [
        "df['BP'].fillna(df['BP'].median(),inplace=True)\n",
        "print(df)"
      ],
      "metadata": {
        "colab": {
          "base_uri": "https://localhost:8080/"
        },
        "id": "moTSAfrL_8g0",
        "outputId": "de76155b-d11b-42c6-c58b-99a959939b50"
      },
      "execution_count": 29,
      "outputs": [
        {
          "output_type": "stream",
          "name": "stdout",
          "text": [
            "   patientid    Age     BP\n",
            "0          1  25.00  120.0\n",
            "1          2  30.00  120.0\n",
            "2          3  36.25  110.0\n",
            "3          4  40.00  140.0\n",
            "4          5  50.00  120.0\n"
          ]
        },
        {
          "output_type": "stream",
          "name": "stderr",
          "text": [
            "/tmp/ipython-input-2567492602.py:1: FutureWarning: A value is trying to be set on a copy of a DataFrame or Series through chained assignment using an inplace method.\n",
            "The behavior will change in pandas 3.0. This inplace method will never work because the intermediate object on which we are setting values always behaves as a copy.\n",
            "\n",
            "For example, when doing 'df[col].method(value, inplace=True)', try using 'df.method({col: value}, inplace=True)' or df[col] = df[col].method(value) instead, to perform the operation inplace on the original object.\n",
            "\n",
            "\n",
            "  df['BP'].fillna(df['BP'].median(),inplace=True)\n"
          ]
        }
      ]
    },
    {
      "cell_type": "code",
      "source": [
        "import pandas as pd\n",
        "data={'BP':[120,None,None,125,None,150]}\n",
        "df=pd.DataFrame(data)\n",
        "df['BP'].fillna(method='ffill', inplace=True)\n",
        "print(df)"
      ],
      "metadata": {
        "colab": {
          "base_uri": "https://localhost:8080/"
        },
        "id": "QFIGZeLi8ssa",
        "outputId": "7cc8b196-f724-498c-dfaf-0e51b3bbd528"
      },
      "execution_count": 9,
      "outputs": [
        {
          "output_type": "stream",
          "name": "stdout",
          "text": [
            "      BP\n",
            "0  120.0\n",
            "1  120.0\n",
            "2  120.0\n",
            "3  125.0\n",
            "4  125.0\n",
            "5  150.0\n"
          ]
        },
        {
          "output_type": "stream",
          "name": "stderr",
          "text": [
            "/tmp/ipython-input-3968346752.py:4: FutureWarning: A value is trying to be set on a copy of a DataFrame or Series through chained assignment using an inplace method.\n",
            "The behavior will change in pandas 3.0. This inplace method will never work because the intermediate object on which we are setting values always behaves as a copy.\n",
            "\n",
            "For example, when doing 'df[col].method(value, inplace=True)', try using 'df.method({col: value}, inplace=True)' or df[col] = df[col].method(value) instead, to perform the operation inplace on the original object.\n",
            "\n",
            "\n",
            "  df['BP'].fillna(method='ffill', inplace=True)\n",
            "/tmp/ipython-input-3968346752.py:4: FutureWarning: Series.fillna with 'method' is deprecated and will raise in a future version. Use obj.ffill() or obj.bfill() instead.\n",
            "  df['BP'].fillna(method='ffill', inplace=True)\n"
          ]
        }
      ]
    },
    {
      "cell_type": "code",
      "source": [
        "import pandas as pd\n",
        "sales=pd.DataFrame({\n",
        "    'OrderId':[101,102,103,101],\n",
        "    'Product':['Mobile','Laptop','Tablet','Mobile'],\n",
        "    'Amount':[20000,50000,15000,20000]\n",
        "})\n",
        "print(sales.duplicated())\n",
        "sales_df=sales.drop_duplicates()\n",
        "print(sales_df)"
      ],
      "metadata": {
        "colab": {
          "base_uri": "https://localhost:8080/"
        },
        "id": "AR6BN7m--X6Y",
        "outputId": "0b1055f0-fc7f-40fc-f06a-b48e337dead7"
      },
      "execution_count": 14,
      "outputs": [
        {
          "output_type": "stream",
          "name": "stdout",
          "text": [
            "0    False\n",
            "1    False\n",
            "2    False\n",
            "3     True\n",
            "dtype: bool\n",
            "   OrderId Product  Amount\n",
            "0      101  Mobile   20000\n",
            "1      102  Laptop   50000\n",
            "2      103  Tablet   15000\n"
          ]
        }
      ]
    },
    {
      "cell_type": "code",
      "source": [
        "import pandas as pd\n",
        "import numpy as np\n",
        "data2={'patientid':[1,2,3,4,5,2,4],\n",
        "      'Age':[25,30,90,40,50,30,40],\n",
        "      'BP':[120,130,110,140,135,130,140]}\n",
        "df2=pd.DataFrame(data2)\n",
        "print(df2)\n",
        "print(df2.duplicated())\n"
      ],
      "metadata": {
        "colab": {
          "base_uri": "https://localhost:8080/"
        },
        "id": "8LY7xRvxCRg3",
        "outputId": "6ce7643d-5383-4a4e-ffb0-6be8ba78b379"
      },
      "execution_count": 16,
      "outputs": [
        {
          "output_type": "stream",
          "name": "stdout",
          "text": [
            "   patientid  Age   BP\n",
            "0          1   25  120\n",
            "1          2   30  130\n",
            "2          3   90  110\n",
            "3          4   40  140\n",
            "4          5   50  135\n",
            "5          2   30  130\n",
            "6          4   40  140\n",
            "0    False\n",
            "1    False\n",
            "2    False\n",
            "3    False\n",
            "4    False\n",
            "5     True\n",
            "6     True\n",
            "dtype: bool\n"
          ]
        }
      ]
    },
    {
      "cell_type": "code",
      "source": [
        "import pandas as pd\n",
        "import numpy as np\n",
        "data2={'patientid':[1,2,3,4,5,2,4],\n",
        "      'Age':[25,30,90,40,50,30,40],\n",
        "      'BP':[120,130,110,140,135,130,140]}\n",
        "df2=pd.DataFrame(data2)\n",
        "print(df2)\n",
        "print(df2.duplicated())\n",
        "df3=df2.drop_duplicates()\n",
        "print(df3)\n"
      ],
      "metadata": {
        "colab": {
          "base_uri": "https://localhost:8080/"
        },
        "id": "ZNyp1yzhD_J_",
        "outputId": "397a09b4-b5d3-43bd-c275-42e47121408a"
      },
      "execution_count": 17,
      "outputs": [
        {
          "output_type": "stream",
          "name": "stdout",
          "text": [
            "   patientid  Age   BP\n",
            "0          1   25  120\n",
            "1          2   30  130\n",
            "2          3   90  110\n",
            "3          4   40  140\n",
            "4          5   50  135\n",
            "5          2   30  130\n",
            "6          4   40  140\n",
            "0    False\n",
            "1    False\n",
            "2    False\n",
            "3    False\n",
            "4    False\n",
            "5     True\n",
            "6     True\n",
            "dtype: bool\n",
            "   patientid  Age   BP\n",
            "0          1   25  120\n",
            "1          2   30  130\n",
            "2          3   90  110\n",
            "3          4   40  140\n",
            "4          5   50  135\n"
          ]
        }
      ]
    }
  ]
}